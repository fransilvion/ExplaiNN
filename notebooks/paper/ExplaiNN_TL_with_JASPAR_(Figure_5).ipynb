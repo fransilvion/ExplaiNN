{
 "cells": [
  {
   "cell_type": "code",
   "execution_count": 1,
   "id": "faa89b6b",
   "metadata": {},
   "outputs": [],
   "source": [
    "from explainn import tools\n",
    "from explainn import networks\n",
    "from explainn import train\n",
    "from explainn import test\n",
    "from explainn import interpretation\n",
    "\n",
    "from Bio import SeqIO\n",
    "import torch\n",
    "import os\n",
    "import torch.nn as nn\n",
    "import numpy as np\n",
    "from sklearn.model_selection import train_test_split\n",
    "import pandas as pd\n",
    "import logomaker\n",
    "import math\n",
    "import pickle\n",
    "import h5py\n",
    "import copy\n",
    "import seaborn as sns\n",
    "from tqdm import tqdm\n",
    "import matplotlib.pyplot as plt"
   ]
  },
  {
   "cell_type": "markdown",
   "id": "d6d68b93",
   "metadata": {},
   "source": [
    "# Loading the data"
   ]
  },
  {
   "cell_type": "code",
   "execution_count": 2,
   "id": "556de79d",
   "metadata": {},
   "outputs": [],
   "source": [
    "num_epochs = 10\n",
    "batch_size = 100 \n",
    "learning_rate = 0.001 \n",
    "\n",
    "device = torch.device('cuda:0' if torch.cuda.is_available() else 'cpu')"
   ]
  },
  {
   "cell_type": "code",
   "execution_count": 3,
   "id": "436e5229",
   "metadata": {},
   "outputs": [],
   "source": [
    "# PMID: 32978299\n",
    "x = np.load(\"../../AI-TAC/ai_tac_data/one_hot_seqs.npy\")\n",
    "x = x.astype(np.float32)\n",
    "y = np.load(\"../../AI-TAC/ai_tac_data/cell_type_array.npy\")\n",
    "y = y.astype(np.float32)\n",
    "peak_names = np.load(\"../../AI-TAC/ai_tac_data/peak_names.npy\")"
   ]
  },
  {
   "cell_type": "code",
   "execution_count": 4,
   "id": "f5379450",
   "metadata": {},
   "outputs": [
    {
     "data": {
      "text/plain": [
       "(327927, 4, 251)"
      ]
     },
     "execution_count": 4,
     "metadata": {},
     "output_type": "execute_result"
    }
   ],
   "source": [
    "x.shape"
   ]
  },
  {
   "cell_type": "code",
   "execution_count": 5,
   "id": "8ad9cd2b",
   "metadata": {},
   "outputs": [],
   "source": [
    "train_data, eval_data, train_labels, eval_labels, train_names, eval_names = train_test_split(x, y, peak_names, \n",
    "                                                                                             test_size=0.1, random_state=40)\n",
    "\n",
    "# Data loader\n",
    "train_dataset = torch.utils.data.TensorDataset(torch.from_numpy(train_data), torch.from_numpy(train_labels))\n",
    "train_loader = torch.utils.data.DataLoader(dataset=train_dataset, batch_size=batch_size, shuffle=False) #True\n",
    "\n",
    "eval_dataset = torch.utils.data.TensorDataset(torch.from_numpy(eval_data), torch.from_numpy(eval_labels))\n",
    "eval_loader = torch.utils.data.DataLoader(dataset=eval_dataset, batch_size=batch_size, shuffle=False) #True"
   ]
  },
  {
   "cell_type": "markdown",
   "id": "c9a95394",
   "metadata": {},
   "source": [
    "# Plug and Play (TL)"
   ]
  },
  {
   "cell_type": "code",
   "execution_count": 6,
   "id": "f09b3861",
   "metadata": {},
   "outputs": [
    {
     "data": {
      "text/plain": [
       "300"
      ]
     },
     "execution_count": 6,
     "metadata": {},
     "output_type": "execute_result"
    }
   ],
   "source": [
    "with open('../../data/JASPAR2020_CORE_vertebrates_nr_f=19_n=300_w=pfm.pkl', 'rb') as f:\n",
    "    JASPAR_motifs = pickle.load(f)\n",
    "\n",
    "len(JASPAR_motifs)"
   ]
  },
  {
   "cell_type": "code",
   "execution_count": 7,
   "id": "d3533463",
   "metadata": {},
   "outputs": [],
   "source": [
    "num_cnns = 300\n",
    "num_classes = 81\n",
    "input_length = 251\n",
    "\n",
    "explainn = networks.ExplaiNN(num_cnns, input_length, num_classes, filter_size=19).to(device)\n",
    "\n",
    "# initializing with JASPAR motifs\n",
    "conv_weights = explainn.linears[0].weight.data\n",
    "k = 0\n",
    "for motif in JASPAR_motifs.keys():\n",
    "    mm = JASPAR_motifs[motif]\n",
    "    conv_weights[k] = torch.tensor(np.transpose(mm))\n",
    "    k += 1\n",
    "\n",
    "conv_weights.requires_grad = True\n",
    "explainn.linears[0].weight = nn.Parameter(conv_weights)"
   ]
  },
  {
   "cell_type": "code",
   "execution_count": 8,
   "id": "338fbed5",
   "metadata": {},
   "outputs": [
    {
     "data": {
      "text/plain": [
       "tensor([[-0.0717, -0.2204, -0.2481,  0.2034, -0.2166],\n",
       "        [-0.2286, -0.2408, -0.2444, -0.2427, -0.2100],\n",
       "        [ 0.0901,  0.7079, -0.2462,  0.1482,  0.6630],\n",
       "        [ 0.2103, -0.2467,  0.7387, -0.1089, -0.2364]], device='cuda:0')"
      ]
     },
     "execution_count": 8,
     "metadata": {},
     "output_type": "execute_result"
    }
   ],
   "source": [
    "explainn.linears[0].weight.data[0,:,5:10]"
   ]
  },
  {
   "cell_type": "code",
   "execution_count": 9,
   "id": "947da4d5",
   "metadata": {
    "scrolled": true
   },
   "outputs": [
    {
     "data": {
      "text/plain": [
       "array([[-0.07173095, -0.22036689, -0.24811853,  0.20343368, -0.21660395],\n",
       "       [-0.22859831, -0.24082785, -0.2443556 , -0.24270931, -0.21001881],\n",
       "       [ 0.09007526,  0.70790216, -0.24623706,  0.14816557,  0.66298213],\n",
       "       [ 0.210254  , -0.24670743,  0.73871119, -0.10888993, -0.23635936]])"
      ]
     },
     "execution_count": 9,
     "metadata": {},
     "output_type": "execute_result"
    }
   ],
   "source": [
    "np.transpose(JASPAR_motifs['MA1594.1;rev;ZNF382'])[:,5:10]"
   ]
  },
  {
   "cell_type": "code",
   "execution_count": 10,
   "id": "6d3d6a25",
   "metadata": {},
   "outputs": [
    {
     "data": {
      "text/plain": [
       "tensor([[-0.2288,  0.7500, -0.2500, -0.2487,  0.2246],\n",
       "        [-0.2500, -0.2500, -0.2500, -0.2500, -0.0897],\n",
       "        [ 0.7288, -0.2500, -0.2500, -0.1744,  0.1150],\n",
       "        [-0.2500, -0.2500,  0.7500,  0.6731, -0.2500]], device='cuda:0')"
      ]
     },
     "execution_count": 10,
     "metadata": {},
     "output_type": "execute_result"
    }
   ],
   "source": [
    "explainn.linears[0].weight.data[-1,:,5:10]"
   ]
  },
  {
   "cell_type": "code",
   "execution_count": 11,
   "id": "2136a344",
   "metadata": {},
   "outputs": [
    {
     "data": {
      "text/plain": [
       "array([[-0.22883141,  0.75      , -0.25      , -0.24869168,  0.22463171],\n",
       "       [-0.25      , -0.25      , -0.25      , -0.25      , -0.08967868],\n",
       "       [ 0.72883141, -0.25      , -0.25      , -0.17440537,  0.11504697],\n",
       "       [-0.25      , -0.25      ,  0.75      ,  0.67309705, -0.25      ]])"
      ]
     },
     "execution_count": 11,
     "metadata": {},
     "output_type": "execute_result"
    }
   ],
   "source": [
    "np.transpose(JASPAR_motifs['MA0468.1;rev;DUX4'])[:,5:10]"
   ]
  },
  {
   "cell_type": "code",
   "execution_count": 14,
   "id": "cf602d6f",
   "metadata": {},
   "outputs": [],
   "source": [
    "# explainn = tools.change_grad_filters(explainn, 0, list(range(300))) - freeze all filters\n",
    "# explainn = tools.change_grad_filters(explainn, 0, [149,150,151])    - freeze specific filters"
   ]
  },
  {
   "cell_type": "code",
   "execution_count": null,
   "id": "040a812f",
   "metadata": {},
   "outputs": [],
   "source": [
    "criterion = tools.pearson_loss\n",
    "\n",
    "learning_rate = 0.001 \n",
    "\n",
    "optimizer = torch.optim.Adam(explainn.parameters(), lr=learning_rate)\n",
    "\n",
    "os.makedirs(\"../CAM_AITAC_PaP_300_JASPAR_300_motifs_UnFr\")\n",
    "\n",
    "num_epochs = 10\n",
    "\n",
    "model, train_error, test_error = train.train_explainn(train_loader, eval_loader, \n",
    "                                                      explainn, device, criterion, \n",
    "                                                      optimizer, num_epochs,\n",
    "                                                      \"../CAM_AITAC_PaP_300_JASPAR_300_motifs_UnFr\", \"\", \n",
    "                                                      verbose=True, trim_weights=False)"
   ]
  },
  {
   "cell_type": "code",
   "execution_count": 12,
   "id": "4d5eae93",
   "metadata": {},
   "outputs": [],
   "source": [
    "explainn = networks.ExplaiNN(num_cnns, input_length, num_classes, filter_size=19).to(device)\n",
    "explainn.load_state_dict(torch.load(\"../CAM_AITAC_PaP_300_JASPAR_300_motifs_UnFr/model_epoch_6_.pth\"))\n",
    "explainn.eval();"
   ]
  },
  {
   "cell_type": "code",
   "execution_count": 13,
   "id": "e1a6e4bd",
   "metadata": {},
   "outputs": [
    {
     "name": "stdout",
     "output_type": "stream",
     "text": [
      "weighted_cor is 0.453053291454717\n",
      "number of NaN values: 0\n",
      "1630\n"
     ]
    },
    {
     "data": {
      "image/png": "[encoded data removed]",
      "text/plain": [
       "<Figure size 432x288 with 1 Axes>"
      ]
     },
     "metadata": {
      "needs_background": "light"
     },
     "output_type": "display_data"
    }
   ],
   "source": [
    "predictions, _ = interpretation.get_explainn_predictions(eval_loader, explainn, device)\n",
    "\n",
    "correlations = []\n",
    "vars = []\n",
    "for i in range(len(predictions)):\n",
    "    var = np.var(eval_labels[i, :])\n",
    "    vars.append(var)\n",
    "    x = np.corrcoef(predictions[i, :], eval_labels[i, :])[0, 1]\n",
    "    correlations.append(x)\n",
    "\n",
    "weighted_cor = np.dot(correlations, vars) / np.sum(vars)\n",
    "print('weighted_cor is {}'.format(weighted_cor))\n",
    "\n",
    "nan_cors = [value for value in correlations if math.isnan(value)]\n",
    "print(\"number of NaN values: %d\" % len(nan_cors))\n",
    "correlations = [value for value in correlations if not math.isnan(value)]\n",
    "print(np.where(np.array(correlations) >= 0.75)[0].shape[0])\n",
    "\n",
    "\n",
    "%matplotlib inline\n",
    "plt.clf()\n",
    "plt.hist(correlations, bins=30)\n",
    "plt.axvline(np.mean(correlations), color='r', linestyle='dashed', linewidth=2)\n",
    "plt.axvline(0, color='k', linestyle='solid', linewidth=2)\n",
    "try:\n",
    "    plt.title(\"histogram of correlation.  Avg cor = {%f}\" % np.mean(correlations))\n",
    "except Exception as e:\n",
    "    print(\"could not set the title for graph\")\n",
    "    print(e)\n",
    "plt.ylabel(\"Frequency\")\n",
    "plt.xlabel(\"correlation\")\n",
    "#plt.savefig(output_file_path + \"basset_cor_hist.svg\")\n",
    "plt.show() #0.3468 real CAM; 0.3411 frozen JASPAR; 0.3465 not frozen JASPAR; 0.3455 small steps"
   ]
  },
  {
   "cell_type": "markdown",
   "id": "96aa6ba0",
   "metadata": {},
   "source": [
    "# Interpretation"
   ]
  },
  {
   "cell_type": "code",
   "execution_count": 16,
   "id": "567ccb70",
   "metadata": {},
   "outputs": [
    {
     "data": {
      "text/plain": [
       "(18033,)"
      ]
     },
     "execution_count": 16,
     "metadata": {},
     "output_type": "execute_result"
    }
   ],
   "source": [
    "batch_size = 100\n",
    "\n",
    "device = torch.device('cuda:0' if torch.cuda.is_available() else 'cpu')\n",
    "x = np.load(\"../../AI-TAC/ai_tac_data/one_hot_seqs.npy\")\n",
    "x = x.astype(np.float32)\n",
    "y = np.load(\"../../AI-TAC/ai_tac_data/cell_type_array.npy\")\n",
    "y = y.astype(np.float32)\n",
    "peak_names = np.load(\"../../AI-TAC/ai_tac_data/peak_names.npy\")\n",
    "\n",
    "dataset = torch.utils.data.TensorDataset(torch.from_numpy(x), torch.from_numpy(y))\n",
    "data_loader = torch.utils.data.DataLoader(dataset=dataset, batch_size=batch_size, shuffle=False)\n",
    "\n",
    "predictions, labels = interpretation.get_explainn_predictions(data_loader, explainn, device)\n",
    "\n",
    "correlations = []\n",
    "vars = []\n",
    "for i in range(len(predictions)):\n",
    "    var = np.var(labels[i, :])\n",
    "    vars.append(var)\n",
    "    x_ = np.corrcoef(predictions[i, :], labels[i, :])[0, 1]\n",
    "    correlations.append(x_)\n",
    "\n",
    "correlations = [value for value in correlations if not math.isnan(value)]\n",
    "idx = np.argwhere(np.asarray(correlations) > 0.75).squeeze()\n",
    "idx.shape"
   ]
  },
  {
   "cell_type": "code",
   "execution_count": null,
   "id": "c71e8ff4",
   "metadata": {},
   "outputs": [],
   "source": [
    "x2 = x[idx, :, :]\n",
    "y2 = y[idx, :]\n",
    "\n",
    "dataset = torch.utils.data.TensorDataset(torch.from_numpy(x2), torch.from_numpy(y2))\n",
    "data_loader = torch.utils.data.DataLoader(dataset=dataset, batch_size=batch_size, shuffle=False)\n",
    "\n",
    "activations = interpretation.get_explainn_unit_activations(data_loader, explainn, device)\n",
    "pwms = interpretation.get_pwms_explainn(activations, x, y, 19)\n",
    "interpretation.pwm_to_meme(\"../CAM_AITAC_PaP_300_JASPAR_300_motifs_UnFr.meme\")"
   ]
  },
  {
   "cell_type": "code",
   "execution_count": null,
   "id": "ea9fe117",
   "metadata": {},
   "outputs": [],
   "source": [
    "%%bash\n",
    ". ~/.bashrc\n",
    "./../../../meme-5.3.3/src/tomtom -oc ../../../tomtom_results/CAM_AITAC_PaP_300_JASPAR_300_motifs_UnFr ../CAM_AITAC_PaP_300_JASPAR_300_motifs_UnFr.meme ../../../tomtom_results/CisBP-mouse_NEW.meme > /dev/null 2>&1"
   ]
  },
  {
   "cell_type": "code",
   "execution_count": 20,
   "id": "7a2cff08",
   "metadata": {},
   "outputs": [
    {
     "data": {
      "text/plain": [
       "filter0          JASPAR_ZNF382\n",
       "filter1           JASPAR_CENPB\n",
       "filter2          JASPAR_ZNF382\n",
       "filter3      JASPAR_EWSR1-FLI1\n",
       "filter4      JASPAR_EWSR1-FLI1\n",
       "                   ...        \n",
       "filter295         JASPAR_VEZF1\n",
       "filter296        JASPAR_HOXB13\n",
       "filter297          JASPAR_SOX5\n",
       "filter298          JASPAR_MTF1\n",
       "filter299          JASPAR_DUX4\n",
       "Length: 300, dtype: object"
      ]
     },
     "execution_count": 20,
     "metadata": {},
     "output_type": "execute_result"
    }
   ],
   "source": [
    "tomtom_results = pd.read_csv(\"../../../tomtom_results/CAM_AITAC_PaP_300_JASPAR_300_motifs_UnFr/tomtom.tsv\",\n",
    "                                    sep=\"\\t\",comment=\"#\")\n",
    "\n",
    "filters_with_min_q = tomtom_results.groupby('Query_ID').min()[\"q-value\"]\n",
    "\n",
    "tomtom_results = tomtom_results[[\"Target_ID\", \"Query_ID\", \"q-value\"]]\n",
    "tomtom_results = tomtom_results[tomtom_results[\"q-value\"]<0.05]\n",
    "\n",
    "cisbp_motifs = {}\n",
    "with open(\"../../../tomtom_results/CisBP-mouse_NEW.meme\") as f:\n",
    "    for line in f:\n",
    "        if \"MOTIF\" in line:\n",
    "            motif = line.strip().split()[-1]\n",
    "            name_m = line.strip().split()[-2]\n",
    "            cisbp_motifs[name_m] = motif\n",
    "            \n",
    "filters = tomtom_results[\"Query_ID\"].unique()\n",
    "annotation = {}\n",
    "for f in filters:\n",
    "    t = tomtom_results[tomtom_results[\"Query_ID\"] == f]\n",
    "    target_id = t[\"Target_ID\"]\n",
    "    if len(target_id) > 5:\n",
    "        target_id = target_id[:5]\n",
    "    ann = \"/\".join([cisbp_motifs[i] for i in target_id.values])\n",
    "    annotation[f] = ann\n",
    "    \n",
    "filters_ind = np.array([int(i.split(\"filter\")[-1]) for i in annotation.keys()])\n",
    "\n",
    "annotation = pd.Series(annotation)\n",
    "\n",
    "new_annot = {}\n",
    "j_m = list(JASPAR_motifs.keys())\n",
    "#for i in range(100):\n",
    "for i in range(300):\n",
    "    new_annot[\"filter\"+str(i)] = 'JASPAR_'+j_m[i].split(';')[-1]\n",
    "new_annot = pd.Series(new_annot)\n",
    "new_annot"
   ]
  },
  {
   "cell_type": "markdown",
   "id": "bbce543c",
   "metadata": {},
   "source": [
    "# Motif analysis"
   ]
  },
  {
   "cell_type": "code",
   "execution_count": 23,
   "id": "93674e8d",
   "metadata": {},
   "outputs": [],
   "source": [
    "motifs, motif_names = tools.read_meme(\"../CAM_AITAC_PaP_300_JASPAR_300_motifs_UnFr.meme\")"
   ]
  },
  {
   "cell_type": "code",
   "execution_count": 24,
   "id": "eeffb388",
   "metadata": {},
   "outputs": [],
   "source": [
    "with open('../../data/JASPAR2020_CORE_vertebrates_nr_f=19_n=300_w=pfm.pkl', 'rb') as f:\n",
    "    JASPAR_motifs = pickle.load(f)"
   ]
  },
  {
   "cell_type": "code",
   "execution_count": 25,
   "id": "78592ea3",
   "metadata": {},
   "outputs": [
    {
     "data": {
      "image/png": "[encoded data removed]",
      "text/plain": [
       "<Figure size 720x180 with 1 Axes>"
      ]
     },
     "metadata": {
      "needs_background": "light"
     },
     "output_type": "display_data"
    },
    {
     "data": {
      "image/png": "[encoded data removed]",
      "text/plain": [
       "<Figure size 720x180 with 1 Axes>"
      ]
     },
     "metadata": {
      "needs_background": "light"
     },
     "output_type": "display_data"
    }
   ],
   "source": [
    "%matplotlib inline\n",
    "import logomaker\n",
    "\n",
    "filterid=150\n",
    "nn_logo = logomaker.Logo(pd.DataFrame(data=JASPAR_motifs[list(JASPAR_motifs.keys())[filterid]],columns = [\"A\",\"C\", \"G\",\"T\"]))\n",
    "\n",
    "x = [list(i) for i in motifs[filterid]]\n",
    "pwm = tools._PWM_to_filter_weights(x, 19)\n",
    "nn_logo = logomaker.Logo(pd.DataFrame(data=pwm,columns = [\"A\",\"C\", \"G\",\"T\"]))"
   ]
  },
  {
   "cell_type": "code",
   "execution_count": null,
   "id": "6e5c7a88",
   "metadata": {},
   "outputs": [],
   "source": []
  }
 ],
 "metadata": {
  "kernelspec": {
   "display_name": "Python 3",
   "language": "python",
   "name": "python3"
  },
  "language_info": {
   "codemirror_mode": {
    "name": "ipython",
    "version": 3
   },
   "file_extension": ".py",
   "mimetype": "text/x-python",
   "name": "python",
   "nbconvert_exporter": "python",
   "pygments_lexer": "ipython3",
   "version": "3.8.1"
  }
 },
 "nbformat": 4,
 "nbformat_minor": 5
}
